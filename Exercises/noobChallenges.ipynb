{
 "cells": [
  {
   "cell_type": "markdown",
   "metadata": {},
   "source": [
    "# Jupyter Notebook Shortcuts"
   ]
  },
  {
   "cell_type": "markdown",
   "metadata": {},
   "source": [
    "- **Esc** will take you into command mode where you can navigate around your notebook with arrow keys.   \n",
    "** While in command mode: **\n",
    "- A to insert a new cell above the current cell, B to insert a new cell below.\n",
    "- M to change the current cell to Markdown, Y to change it back to code\n",
    "- D + D (press the key twice) to delete the current cell\n",
    "- Enter will take you from command mode back into edit mode for the given cell.\n",
    "- Shift + Tab will show you the Docstring (documentation) for the the object you have just typed in a code cell - you can keep pressing this short cut to cycle through a few modes of documentation.\n",
    "- Ctrl + Shift + - will split the current cell into two from where your cursor is.\n",
    "- Esc + F Find and replace on your code but not the outputs.\n",
    "- Esc + O Toggle cell output.\n",
    "- Select Multiple Cells:\n",
    "    - Shift + J or Shift + Down selects the next sell in a downwards direction. You can also select sells in an upwards direction by using Shift + K or Shift + Up.\n",
    "    -Once cells are selected, you can then delete / copy / cut / paste / run them as a batch. This is helpful when you need to move parts of a notebook.\n",
    "    - You can also use Shift + M to merge multiple cells."
   ]
  },
  {
   "cell_type": "markdown",
   "metadata": {},
   "source": [
    " Write a program that says:\n",
    " this is a computer program that prints on several lines."
   ]
  },
  {
   "cell_type": "code",
   "execution_count": 3,
   "metadata": {},
   "outputs": [
    {
     "name": "stdout",
     "output_type": "stream",
     "text": [
      "This is a\n",
      "computer\n",
      "program.\n",
      "      \n"
     ]
    }
   ],
   "source": [
    "print('''This is a\n",
    "computer\n",
    "program.\n",
    "      ''')"
   ]
  },
  {
   "cell_type": "markdown",
   "metadata": {},
   "source": [
    "Challenge task:\n",
    "Complete the following program so it uses the variables to print out ‘the cat sat on the mat’. It should print out on one line, with spaces."
   ]
  },
  {
   "cell_type": "code",
   "execution_count": 4,
   "metadata": {},
   "outputs": [
    {
     "name": "stdout",
     "output_type": "stream",
     "text": [
      "that cat sat on the mat\n"
     ]
    }
   ],
   "source": [
    "word1 = \"that\"\n",
    "word2 = \"cat\"\n",
    "word3 = \"sat\"\n",
    "word4 = \"on\"\n",
    "word5 = \"the\"\n",
    "word6 = \"mat\"\n",
    "space = \" \"\n",
    "\n",
    "sentence = sentense = word1 + space + word2 + space + word3 + space + word4 + space + word5 + space + word6\n",
    "print(sentence)"
   ]
  },
  {
   "cell_type": "markdown",
   "metadata": {},
   "source": [
    "Challenge task:\n",
    "Write a program that asks the user their name and then asks what their favourite food is, using their\n",
    "name in the question, and responds to their answer."
   ]
  },
  {
   "cell_type": "code",
   "execution_count": 3,
   "metadata": {},
   "outputs": [
    {
     "name": "stdout",
     "output_type": "stream",
     "text": [
      "Hello Jeff, Your favourite food is Pizza.\n"
     ]
    }
   ],
   "source": [
    "name = input('What is your name? ')\n",
    "food = input('What is your favourite food? ')\n",
    "response = ('Hello ' + name + ', Your favourite food is ' + food + '.')\n",
    "print(response)"
   ]
  },
  {
   "cell_type": "markdown",
   "metadata": {},
   "source": [
    "Challenge task:\n",
    "Write a program that has 3 variables (a, b and c). a = 12 and b = 6.\n",
    "c should be equal to a plus b. The program should print c."
   ]
  },
  {
   "cell_type": "code",
   "execution_count": 9,
   "metadata": {},
   "outputs": [
    {
     "name": "stdout",
     "output_type": "stream",
     "text": [
      "18\n"
     ]
    }
   ],
   "source": [
    "a = 12\n",
    "b = 6\n",
    "c = a + b\n",
    "print(c)"
   ]
  },
  {
   "cell_type": "markdown",
   "metadata": {},
   "source": [
    "Challenge 5\n",
    "Write a program that asks the user their first name and then asks them their surname and then prints\n",
    "their whole name 3 times."
   ]
  },
  {
   "cell_type": "code",
   "execution_count": 19,
   "metadata": {},
   "outputs": [
    {
     "name": "stdout",
     "output_type": "stream",
     "text": [
      "Jeff Bezz Jeff Bezz Jeff Bezz\n"
     ]
    }
   ],
   "source": [
    "name = input('What is your name?')\n",
    "last_name = input('What is your last name?')\n",
    "\n",
    "full_name = name + ' ' + last_name + ' ' + name + ' ' + last_name + ' ' + name + ' ' + last_name\n",
    "print(full_name)\n",
    "\n"
   ]
  },
  {
   "cell_type": "markdown",
   "metadata": {},
   "source": [
    "Challenge 6\n",
    "Write a program that uses the following variables to calculate the number of minutes in a week:\n",
    "- Variables:\n",
    "- DaysPerWeek\n",
    "- HoursPerDay\n",
    "- MinutesPerHou"
   ]
  },
  {
   "cell_type": "code",
   "execution_count": 27,
   "metadata": {},
   "outputs": [
    {
     "name": "stdout",
     "output_type": "stream",
     "text": [
      "Number of minutes per hour 60 min\n",
      "10080 minutes in a week.\n"
     ]
    }
   ],
   "source": [
    "days_per_week = 7\n",
    "hours_per_day = 24\n",
    "minutes_per_hour = 60\n",
    "\n",
    "week = 24 * 7\n",
    "min_per_day = week * 60\n",
    "print('Number of minutes per hour' + ' ' + str(minutes_per_hour) + ' min')\n",
    "\n",
    "min_per_week = days_per_week * hours_per_day * minutes_per_hour\n",
    "print(str(min_per_week) + ' minutes in a week.') \n"
   ]
  },
  {
   "cell_type": "markdown",
   "metadata": {},
   "source": [
    "Challenge:\n",
    "Write a program that asks the user their name, says ‘Hello’ to them, using their name and then asks how\n",
    "old they are. The program should then calculate their age at their next birthday and respond “So your\n",
    "next birthday you are (age)?’"
   ]
  },
  {
   "cell_type": "code",
   "execution_count": 37,
   "metadata": {},
   "outputs": [
    {
     "name": "stdout",
     "output_type": "stream",
     "text": [
      "Hello jeff\n",
      "So your next birthday, you are 29 years old?\n"
     ]
    }
   ],
   "source": [
    "name = input('What is your name?')\n",
    "print('Hello ' + name)\n",
    "age = int(input('How old are you?'))\n",
    "bday = (age + 1)\n",
    "print('So your next birthday, you are ' + str(bday) + ' years old?')"
   ]
  },
  {
   "cell_type": "markdown",
   "metadata": {},
   "source": [
    "Challenge 8\n",
    "Find the area of a rectangle\n",
    "Write a program that finds the area of a rectangle:"
   ]
  },
  {
   "cell_type": "code",
   "execution_count": 39,
   "metadata": {},
   "outputs": [
    {
     "name": "stdout",
     "output_type": "stream",
     "text": [
      "Your rectangle area is 20000\n"
     ]
    }
   ],
   "source": [
    "height = int(input('Enter height: '))\n",
    "width = int(input('Enter width'))\n",
    "area = width * height\n",
    "print('Your rectangle area is ' + str(area))"
   ]
  },
  {
   "cell_type": "markdown",
   "metadata": {},
   "source": [
    "Write a program that asks the user how long, on average, they spend on a computer per day."
   ]
  },
  {
   "cell_type": "code",
   "execution_count": 42,
   "metadata": {},
   "outputs": [
    {
     "name": "stdout",
     "output_type": "stream",
     "text": [
      "You spend 8 hours per day.\n",
      "That is too many, you should take a break.\n"
     ]
    }
   ],
   "source": [
    "user_hours = int(input('How long on average do you spend on the computer per day? '))\n",
    "print('You spend ' + str(user_hours) + ' hours per day.')\n",
    "if user_hours >= 5:\n",
    "    print('That is too many, you should take a break.')\n",
    "else:\n",
    "    print('Not to bad.')"
   ]
  }
 ],
 "metadata": {
  "kernelspec": {
   "display_name": "Python 3",
   "language": "python",
   "name": "python3"
  },
  "language_info": {
   "codemirror_mode": {
    "name": "ipython",
    "version": 3
   },
   "file_extension": ".py",
   "mimetype": "text/x-python",
   "name": "python",
   "nbconvert_exporter": "python",
   "pygments_lexer": "ipython3",
   "version": "3.11.4"
  },
  "orig_nbformat": 4
 },
 "nbformat": 4,
 "nbformat_minor": 2
}
